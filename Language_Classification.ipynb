{
 "cells": [
  {
   "cell_type": "markdown",
   "metadata": {},
   "source": [
    "# Language Classification\n",
    "\n",
    "### Goal\n",
    "Create a model that can discriminate between English, Afrikaans, and Dutch phrases. A labelled dataset of phrases is provided (lang_data.csv).\n",
    "\n",
    "\n",
    "### Requirements\n",
    "- You must implement your machine learning model in Python.\n",
    "- You are free to use external Python libraries, but pre-trained models may not be used.\n",
    "- You will have to submit your code, as well as a trained model.\n",
    "- Include instructions for executing your code with the provided (trained) model.\n",
    "\n",
    "### Report\n",
    "In addition to the code and model, you must also submit a report. The report should contain at least the following:\n",
    "- a brief overview of the libraries used in your implementation,\n",
    "- a complete overview of any data analyses, preparation, and/or feature extraction that you performed,\n",
    "- a complete overview of your model’s architecture,\n",
    "- a complete overview of the training process, including detailed discussions of any specific techniques and/or algorithms used in your implementation,\n",
    "- an overview of the testing process,\n",
    "- an overview and discussion of the results, including your model’s performance on each language, and how it can potentially be improved...\n",
    "- Where applicable, justify any choices you make in your approach.\n",
    "- Also answer the bonus questions (see below) in your report.\n",
    "\n",
    "\n",
    "### Bonus Questions\n",
    "To improve your chances, answer the following questions in your report. You may include these answers as part of discussions throughout your report, or answer them directly in a separate section.\n",
    "- Discuss two machine learning approaches (other than the one you used in your language classification implementation) that would also be able to perform the task. Explain how these methods could be applied instead of your chosen method.\n",
    "- Explain the difference between supervised and unsupervised learning.\n",
    "- Explain the difference between classification and regression.\n",
    "- In supervised classification tasks, we are often faced with datasets in which one of the classes is much more prevalent than any of the other classes. This condition is called class imbalance. Explain the consequences of class imbalance in the context of machine learning.\n",
    "- Explain how any negative consequences of the class imbalance problem (explained in question 4) can be mitigated.\n",
    "- Provide a short overview of the key differences between deep learning and any non-deep learning method."
   ]
  },
  {
   "cell_type": "markdown",
   "metadata": {},
   "source": [
    "### Next step in project:\n",
    "\n",
    "Extract features from text phrases"
   ]
  },
  {
   "cell_type": "code",
   "execution_count": 1,
   "metadata": {
    "collapsed": false
   },
   "outputs": [
    {
     "name": "stderr",
     "output_type": "stream",
     "text": [
      "Using TensorFlow backend.\n"
     ]
    }
   ],
   "source": [
    "import csv\n",
    "import random\n",
    "import numpy as np\n",
    "#import tensorflow as tf\n",
    "import matplotlib.pyplot as plt\n",
    "from sklearn.model_selection import train_test_split\n",
    "from sklearn.utils import shuffle\n",
    "from keras.models import Sequential\n",
    "from keras.preprocessing.text import Tokenizer\n",
    "from keras.preprocessing.sequence import pad_sequences\n",
    "#from keras.preprocessing import sequence, text\n",
    "from keras.layers.core import Dense, Activation, Flatten, Dropout\n",
    "from keras.layers.convolutional import Convolution1D\n",
    "from keras.layers.pooling import MaxPooling2D\n",
    "#from pylab import *\n",
    "# Visualizations will be shown in the notebook.\n",
    "%matplotlib inline"
   ]
  },
  {
   "cell_type": "markdown",
   "metadata": {},
   "source": [
    "---\n",
    "## Data Exploration"
   ]
  },
  {
   "cell_type": "code",
   "execution_count": 9,
   "metadata": {
    "collapsed": false
   },
   "outputs": [
    {
     "name": "stdout",
     "output_type": "stream",
     "text": [
      "X length 2761 shape (2761, 1) type <U317\n",
      "y length 2761 shape (2761, 1) type <U10\n",
      "X[0]: ['Ship shape and Bristol fashion']\n",
      "y[0]: ['English']\n",
      "Number of examples = 2761\n",
      "Number of classes = 3\n",
      "\n",
      "***A few examples from the dataset***\n",
      "Dance attendance on English\n",
      "Big fish in a small pond - A English\n",
      "Hy is ‘n ongeslypte diamant. Afrikaans\n",
      "Piet Pompies van Soetmelksvlei is nie van hier nie. Afrikaans\n",
      "Cogito ergo sum English\n",
      "Tower of strength English\n",
      "Bullet - Bit the, Bite the English\n",
      "Innocent until proven guilty English\n",
      "Haven't got a clue English\n",
      "The triumph of hope over experience English\n"
     ]
    },
    {
     "data": {
      "image/png": "[encoded data removed]",
      "text/plain": [
       "<matplotlib.figure.Figure at 0x7f6198658898>"
      ]
     },
     "metadata": {},
     "output_type": "display_data"
    }
   ],
   "source": [
    "def load_data():\n",
    "    with open('./lang_data.csv', 'r') as lang_data:\n",
    "        reader = csv.reader(lang_data)\n",
    "        lang_data = list(reader)\n",
    "        lang_data = lang_data[1::]\n",
    "\n",
    "    # Create lists to accept all valid data\n",
    "    texts = []\n",
    "    labels = []\n",
    "    data = []\n",
    "    # Loop through phrases\n",
    "    for phrase in lang_data:\n",
    "        # Append phrase to data if it has text\n",
    "        if phrase[0] != '':\n",
    "            texts.append(phrase[0])\n",
    "            labels.append(phrase[1])\n",
    "            data.append(phrase)\n",
    "\n",
    "    max_length = len(max(data)[0])\n",
    "\n",
    "    X = np.vstack(texts).astype(np.str)\n",
    "    y = np.vstack(labels).astype(np.str)\n",
    "\n",
    "    print('X length {} shape {} type {}'.format(len(X), X.shape, X.dtype))\n",
    "    print('y length {} shape {} type {}'.format(len(y), y.shape, y.dtype))\n",
    "    print('X[0]:', X[0])\n",
    "    print('y[0]:', y[0])\n",
    "\n",
    "    return texts, labels, X, y\n",
    "\n",
    "# Display data information\n",
    "def display_data(texts, labels, title):\n",
    "    n_classes = len(np.unique(labels))\n",
    "    print(\"Number of examples =\", len(texts))\n",
    "    print(\"Number of classes =\", n_classes)\n",
    "\n",
    "    # Display a few examples from the dataset\n",
    "    index = np.random.randint(0, len(texts), size=10)\n",
    "    print()\n",
    "    print('***A few examples from the dataset***')\n",
    "    for i in index:\n",
    "        print(texts[i], labels[i])\n",
    "\n",
    "    # Display a bar chart of the number of examples per class\n",
    "    bar = np.zeros((n_classes, 1))\n",
    "    for i in range(len(labels)):\n",
    "        if labels[i] == 'English':\n",
    "            bar[0] += 1\n",
    "        if labels[i] == 'Afrikaans':\n",
    "            bar[1] += 1\n",
    "        if labels[i] == 'Nederlands':\n",
    "            bar[2] += 1\n",
    "    # Display bar chart\n",
    "    plt.bar(np.arange(n_classes), bar, align='center')\n",
    "    plt.xlim([-1, n_classes])\n",
    "    plt.title(title)\n",
    "    plt.show()\n",
    "\n",
    "# Load data and display data information\n",
    "texts, labels, X, y = load_data()\n",
    "display_data(texts, labels, 'Original dataset')"
   ]
  },
  {
   "cell_type": "markdown",
   "metadata": {},
   "source": [
    "---\n",
    "\n",
    "## Data Augmentation"
   ]
  },
  {
   "cell_type": "code",
   "execution_count": 63,
   "metadata": {
    "collapsed": false
   },
   "outputs": [],
   "source": [
    "# To be done later, if necessary"
   ]
  },
  {
   "cell_type": "markdown",
   "metadata": {},
   "source": [
    "----\n",
    "\n",
    "## Design and Test a Model Architecture"
   ]
  },
  {
   "cell_type": "code",
   "execution_count": 10,
   "metadata": {
    "collapsed": false
   },
   "outputs": [],
   "source": [
    "# Define Sequential model\n",
    "def sequential_model(X_train, y_train, batch_size, nb_epoch, validation_split):\n",
    "\n",
    "    model = Sequential()\n",
    "\n",
    "#    model.add(LeakyReLU(alpha=0.3))\n",
    "#    model.add(MaxPooling2D(pool_size=(2, 2)))\n",
    "\n",
    "#    model.add(Convolution2D(36, 5, 5, border_mode='valid', subsample=(1, 1)))\n",
    "#    model.add(BatchNormalization())\n",
    "#    model.add(LeakyReLU(alpha=0.3))\n",
    "#    model.add(Convolution2D(48, 5, 5, border_mode='valid', subsample=(1, 1)))\n",
    "#    model.add(BatchNormalization())\n",
    "#    model.add(LeakyReLU(alpha=0.3))\n",
    "#    model.add(MaxPooling2D(pool_size=(2, 2)))\n",
    "\n",
    "#    model.add(Convolution2D(56, 3, 3, border_mode='valid', subsample=(1, 1)))\n",
    "#    model.add(BatchNormalization())\n",
    "#    model.add(LeakyReLU(alpha=0.3))\n",
    "#    model.add(Convolution2D(64, 3, 3, border_mode='valid', subsample=(1, 1)))\n",
    "#    model.add(BatchNormalization())\n",
    "#    model.add(LeakyReLU(alpha=0.3))\n",
    "#    model.add(MaxPooling2D(pool_size=(2, 2)))\n",
    "\n",
    "    model.add(Convolution1D(64, 3, border_mode='same', input_dim=len(X_train)))\n",
    "\n",
    "    model.add(Dense(2))   #, input_dim=len(X_train)))\n",
    "    model.add(Activation('relu'))\n",
    "    model.add(Dropout(0.5))\n",
    "\n",
    "    model.add(Dense(100))\n",
    "    model.add(Activation('relu'))\n",
    "    model.add(Dropout(0.5))\n",
    "\n",
    "#    model.add(Dense(10))\n",
    "#    model.add(BatchNormalization())\n",
    "#    model.add(LeakyReLU(alpha=0.3))        # Suggested - Use ELU\n",
    "#    model.add(Dropout(0.5))\n",
    "\n",
    "#    model.add(Dense(1))\n",
    "#    model.add(BatchNormalization())\n",
    "#    model.add(Activation('linear'))\n",
    "\n",
    "    # Compile model\n",
    "    model.compile(optimizer='adam', loss='categorical_crossentropy', metric=['accuracy'])\n",
    "\n",
    "    # Train model\n",
    "    model.fit(X_train, y_train, batch_size, nb_epoch, validation_split, shuffle='True')\n",
    "\n",
    "\n",
    "\n",
    "\n",
    "\n",
    "    # Display model summary\n",
    "    model.summary()"
   ]
  },
  {
   "cell_type": "code",
   "execution_count": 11,
   "metadata": {
    "collapsed": false,
    "scrolled": false
   },
   "outputs": [
    {
     "ename": "Exception",
     "evalue": "Input 0 is incompatible with layer dense_1: expected ndim=2, found ndim=3",
     "output_type": "error",
     "traceback": [
      "\u001b[0;31m---------------------------------------------------------------------------\u001b[0m",
      "\u001b[0;31mException\u001b[0m                                 Traceback (most recent call last)",
      "\u001b[0;32m<ipython-input-11-ec251ae7bedd>\u001b[0m in \u001b[0;36m<module>\u001b[0;34m()\u001b[0m\n\u001b[1;32m     12\u001b[0m \u001b[0;34m\u001b[0m\u001b[0m\n\u001b[1;32m     13\u001b[0m \u001b[0;31m# Calls the `main` function above\u001b[0m\u001b[0;34m\u001b[0m\u001b[0;34m\u001b[0m\u001b[0m\n\u001b[0;32m---> 14\u001b[0;31m \u001b[0mmain\u001b[0m\u001b[0;34m(\u001b[0m\u001b[0mX\u001b[0m\u001b[0;34m,\u001b[0m \u001b[0my\u001b[0m\u001b[0;34m)\u001b[0m\u001b[0;34m\u001b[0m\u001b[0m\n\u001b[0m",
      "\u001b[0;32m<ipython-input-11-ec251ae7bedd>\u001b[0m in \u001b[0;36mmain\u001b[0;34m(X_train, y_train)\u001b[0m\n\u001b[1;32m      7\u001b[0m \u001b[0;34m\u001b[0m\u001b[0m\n\u001b[1;32m      8\u001b[0m     \u001b[0;31m# Run model\u001b[0m\u001b[0;34m\u001b[0m\u001b[0;34m\u001b[0m\u001b[0m\n\u001b[0;32m----> 9\u001b[0;31m     \u001b[0msequential_model\u001b[0m\u001b[0;34m(\u001b[0m\u001b[0mX_train\u001b[0m\u001b[0;34m,\u001b[0m \u001b[0my_train\u001b[0m\u001b[0;34m,\u001b[0m \u001b[0mbatch_size\u001b[0m\u001b[0;34m,\u001b[0m \u001b[0mnb_epoch\u001b[0m\u001b[0;34m,\u001b[0m \u001b[0mvalidation_split\u001b[0m\u001b[0;34m)\u001b[0m\u001b[0;34m\u001b[0m\u001b[0m\n\u001b[0m\u001b[1;32m     10\u001b[0m \u001b[0;34m\u001b[0m\u001b[0m\n\u001b[1;32m     11\u001b[0m \u001b[0;34m\u001b[0m\u001b[0m\n",
      "\u001b[0;32m<ipython-input-10-6152d909bb78>\u001b[0m in \u001b[0;36msequential_model\u001b[0;34m(X_train, y_train, batch_size, nb_epoch, validation_split)\u001b[0m\n\u001b[1;32m     25\u001b[0m     \u001b[0mmodel\u001b[0m\u001b[0;34m.\u001b[0m\u001b[0madd\u001b[0m\u001b[0;34m(\u001b[0m\u001b[0mConvolution1D\u001b[0m\u001b[0;34m(\u001b[0m\u001b[0;36m64\u001b[0m\u001b[0;34m,\u001b[0m \u001b[0;36m3\u001b[0m\u001b[0;34m,\u001b[0m \u001b[0mborder_mode\u001b[0m\u001b[0;34m=\u001b[0m\u001b[0;34m'same'\u001b[0m\u001b[0;34m,\u001b[0m \u001b[0minput_dim\u001b[0m\u001b[0;34m=\u001b[0m\u001b[0mlen\u001b[0m\u001b[0;34m(\u001b[0m\u001b[0mX_train\u001b[0m\u001b[0;34m)\u001b[0m\u001b[0;34m)\u001b[0m\u001b[0;34m)\u001b[0m\u001b[0;34m\u001b[0m\u001b[0m\n\u001b[1;32m     26\u001b[0m \u001b[0;34m\u001b[0m\u001b[0m\n\u001b[0;32m---> 27\u001b[0;31m     \u001b[0mmodel\u001b[0m\u001b[0;34m.\u001b[0m\u001b[0madd\u001b[0m\u001b[0;34m(\u001b[0m\u001b[0mDense\u001b[0m\u001b[0;34m(\u001b[0m\u001b[0;36m2\u001b[0m\u001b[0;34m)\u001b[0m\u001b[0;34m)\u001b[0m   \u001b[0;31m#, input_dim=len(X_train)))\u001b[0m\u001b[0;34m\u001b[0m\u001b[0m\n\u001b[0m\u001b[1;32m     28\u001b[0m     \u001b[0mmodel\u001b[0m\u001b[0;34m.\u001b[0m\u001b[0madd\u001b[0m\u001b[0;34m(\u001b[0m\u001b[0mActivation\u001b[0m\u001b[0;34m(\u001b[0m\u001b[0;34m'relu'\u001b[0m\u001b[0;34m)\u001b[0m\u001b[0;34m)\u001b[0m\u001b[0;34m\u001b[0m\u001b[0m\n\u001b[1;32m     29\u001b[0m     \u001b[0mmodel\u001b[0m\u001b[0;34m.\u001b[0m\u001b[0madd\u001b[0m\u001b[0;34m(\u001b[0m\u001b[0mDropout\u001b[0m\u001b[0;34m(\u001b[0m\u001b[0;36m0.5\u001b[0m\u001b[0;34m)\u001b[0m\u001b[0;34m)\u001b[0m\u001b[0;34m\u001b[0m\u001b[0m\n",
      "\u001b[0;32m/home/david/anaconda3/envs/CarND-Traffic-Sign-Classifier-Project/lib/python3.5/site-packages/keras/models.py\u001b[0m in \u001b[0;36madd\u001b[0;34m(self, layer)\u001b[0m\n\u001b[1;32m    310\u001b[0m                  output_shapes=[self.outputs[0]._keras_shape])\n\u001b[1;32m    311\u001b[0m         \u001b[0;32melse\u001b[0m\u001b[0;34m:\u001b[0m\u001b[0;34m\u001b[0m\u001b[0m\n\u001b[0;32m--> 312\u001b[0;31m             \u001b[0moutput_tensor\u001b[0m \u001b[0;34m=\u001b[0m \u001b[0mlayer\u001b[0m\u001b[0;34m(\u001b[0m\u001b[0mself\u001b[0m\u001b[0;34m.\u001b[0m\u001b[0moutputs\u001b[0m\u001b[0;34m[\u001b[0m\u001b[0;36m0\u001b[0m\u001b[0;34m]\u001b[0m\u001b[0;34m)\u001b[0m\u001b[0;34m\u001b[0m\u001b[0m\n\u001b[0m\u001b[1;32m    313\u001b[0m             \u001b[0;32mif\u001b[0m \u001b[0mtype\u001b[0m\u001b[0;34m(\u001b[0m\u001b[0moutput_tensor\u001b[0m\u001b[0;34m)\u001b[0m \u001b[0;32mis\u001b[0m \u001b[0mlist\u001b[0m\u001b[0;34m:\u001b[0m\u001b[0;34m\u001b[0m\u001b[0m\n\u001b[1;32m    314\u001b[0m                 raise Exception('All layers in a Sequential model '\n",
      "\u001b[0;32m/home/david/anaconda3/envs/CarND-Traffic-Sign-Classifier-Project/lib/python3.5/site-packages/keras/engine/topology.py\u001b[0m in \u001b[0;36m__call__\u001b[0;34m(self, x, mask)\u001b[0m\n\u001b[1;32m    468\u001b[0m             \u001b[0;31m# raise exceptions in case the input is not compatible\u001b[0m\u001b[0;34m\u001b[0m\u001b[0;34m\u001b[0m\u001b[0m\n\u001b[1;32m    469\u001b[0m             \u001b[0;31m# with the input_spec specified in the layer constructor\u001b[0m\u001b[0;34m\u001b[0m\u001b[0;34m\u001b[0m\u001b[0m\n\u001b[0;32m--> 470\u001b[0;31m             \u001b[0mself\u001b[0m\u001b[0;34m.\u001b[0m\u001b[0massert_input_compatibility\u001b[0m\u001b[0;34m(\u001b[0m\u001b[0mx\u001b[0m\u001b[0;34m)\u001b[0m\u001b[0;34m\u001b[0m\u001b[0m\n\u001b[0m\u001b[1;32m    471\u001b[0m \u001b[0;34m\u001b[0m\u001b[0m\n\u001b[1;32m    472\u001b[0m             \u001b[0;31m# collect input shapes to build layer\u001b[0m\u001b[0;34m\u001b[0m\u001b[0;34m\u001b[0m\u001b[0m\n",
      "\u001b[0;32m/home/david/anaconda3/envs/CarND-Traffic-Sign-Classifier-Project/lib/python3.5/site-packages/keras/engine/topology.py\u001b[0m in \u001b[0;36massert_input_compatibility\u001b[0;34m(self, input)\u001b[0m\n\u001b[1;32m    409\u001b[0m                                         \u001b[0mself\u001b[0m\u001b[0;34m.\u001b[0m\u001b[0mname\u001b[0m \u001b[0;34m+\u001b[0m \u001b[0;34m': expected ndim='\u001b[0m \u001b[0;34m+\u001b[0m\u001b[0;34m\u001b[0m\u001b[0m\n\u001b[1;32m    410\u001b[0m                                         \u001b[0mstr\u001b[0m\u001b[0;34m(\u001b[0m\u001b[0mspec\u001b[0m\u001b[0;34m.\u001b[0m\u001b[0mndim\u001b[0m\u001b[0;34m)\u001b[0m \u001b[0;34m+\u001b[0m \u001b[0;34m', found ndim='\u001b[0m \u001b[0;34m+\u001b[0m\u001b[0;34m\u001b[0m\u001b[0m\n\u001b[0;32m--> 411\u001b[0;31m                                         str(K.ndim(x)))\n\u001b[0m\u001b[1;32m    412\u001b[0m             \u001b[0;32mif\u001b[0m \u001b[0mspec\u001b[0m\u001b[0;34m.\u001b[0m\u001b[0mdtype\u001b[0m \u001b[0;32mis\u001b[0m \u001b[0;32mnot\u001b[0m \u001b[0;32mNone\u001b[0m\u001b[0;34m:\u001b[0m\u001b[0;34m\u001b[0m\u001b[0m\n\u001b[1;32m    413\u001b[0m                 \u001b[0;32mif\u001b[0m \u001b[0mK\u001b[0m\u001b[0;34m.\u001b[0m\u001b[0mdtype\u001b[0m\u001b[0;34m(\u001b[0m\u001b[0mx\u001b[0m\u001b[0;34m)\u001b[0m \u001b[0;34m!=\u001b[0m \u001b[0mspec\u001b[0m\u001b[0;34m.\u001b[0m\u001b[0mdtype\u001b[0m\u001b[0;34m:\u001b[0m\u001b[0;34m\u001b[0m\u001b[0m\n",
      "\u001b[0;31mException\u001b[0m: Input 0 is incompatible with layer dense_1: expected ndim=2, found ndim=3"
     ]
    }
   ],
   "source": [
    "def main(X_train, y_train):\n",
    "\n",
    "    # Hyperparamters\n",
    "    batch_size = 128\n",
    "    nb_epoch = 10\n",
    "    validation_split = 0.2\n",
    "\n",
    "    # Run model\n",
    "    sequential_model(X_train, y_train, batch_size, nb_epoch, validation_split)\n",
    "\n",
    "\n",
    "\n",
    "# Calls the `main` function above\n",
    "main(X, y)"
   ]
  }
 ],
 "metadata": {
  "anaconda-cloud": {},
  "kernelspec": {
   "display_name": "Python [conda env:CarND-Traffic-Sign-Classifier-Project]",
   "language": "python",
   "name": "conda-env-CarND-Traffic-Sign-Classifier-Project-py"
  },
  "language_info": {
   "codemirror_mode": {
    "name": "ipython",
    "version": 3
   },
   "file_extension": ".py",
   "mimetype": "text/x-python",
   "name": "python",
   "nbconvert_exporter": "python",
   "pygments_lexer": "ipython3",
   "version": "3.5.2"
  }
 },
 "nbformat": 4,
 "nbformat_minor": 1
}
